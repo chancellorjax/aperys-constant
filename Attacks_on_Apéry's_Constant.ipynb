{
  "nbformat": 4,
  "nbformat_minor": 0,
  "metadata": {
    "colab": {
      "name": "Attacks on Apéry's Constant.ipynb",
      "version": "0.3.2",
      "provenance": [],
      "collapsed_sections": [],
      "include_colab_link": true
    },
    "kernelspec": {
      "name": "python3",
      "display_name": "Python 3"
    }
  },
  "cells": [
    {
      "cell_type": "markdown",
      "metadata": {
        "id": "view-in-github",
        "colab_type": "text"
      },
      "source": [
        "<a href=\"https://colab.research.google.com/github/jagrajs/Aperys_Constant/blob/master/Attacks_on_Ap%C3%A9ry's_Constant.ipynb\" target=\"_parent\"><img src=\"https://colab.research.google.com/assets/colab-badge.svg\" alt=\"Open In Colab\"/></a>"
      ]
    },
    {
      "metadata": {
        "id": "IvhJQoEg1BZU",
        "colab_type": "text"
      },
      "cell_type": "markdown",
      "source": [
        "# Attacks on Apéry's Constant\n",
        "by Jagraj Singh"
      ]
    },
    {
      "metadata": {
        "id": "Y_r7Nv4Xj0WV",
        "colab_type": "text"
      },
      "cell_type": "markdown",
      "source": [
        "## Setup"
      ]
    },
    {
      "metadata": {
        "id": "7N-9SFNjjy18",
        "colab_type": "code",
        "colab": {}
      },
      "cell_type": "code",
      "source": [
        "from sympy import *\n",
        "from mpmath import *\n",
        "n = symbols('n', integer=True)\n",
        "var('n')\n",
        "mp.dps = 50\n",
        "d = mp.dps\n",
        "mp.pretty = True\n"
      ],
      "execution_count": 0,
      "outputs": []
    },
    {
      "metadata": {
        "colab_type": "text",
        "id": "sPHko1phbr6S"
      },
      "cell_type": "markdown",
      "source": [
        "## Background & Motivation"
      ]
    },
    {
      "metadata": {
        "id": "xlwXKQHabyHH",
        "colab_type": "text"
      },
      "cell_type": "markdown",
      "source": [
        "\n",
        "We'll begin by defining the Riemann zeta function, $\\zeta(s)$, for $\\Re(s) \\geq 1$.\n",
        "\n",
        "\\begin{equation}\n",
        "\\zeta(s) = \\sum_{n=1}^{\\infty} \\frac{1}{n^s} = \\frac{1}{1^s} + \\frac{1}{2^s} + \\frac{1}{3^s} + \\cdots + \\frac{1}{n^s}\n",
        "\\end{equation}\n",
        "\n",
        "\n",
        "The harmonic series was shown to diverge by Nicole Oresme in the 14th century: \n",
        "\n",
        "\\begin{equation}\n",
        "\\zeta(1) = \\sum_{n=1}^{\\infty} \\frac{1}{n} = 1 + \\frac{1}{2} + \\frac{1}{3} + \\cdots + \\frac{1}{n} \\rightarrow \\infty\n",
        "\\end{equation}"
      ]
    },
    {
      "metadata": {
        "id": "exqbqNj2b2eq",
        "colab_type": "code",
        "outputId": "da96517c-2a4c-456c-cff4-c4e7d92be05f",
        "colab": {
          "base_uri": "https://localhost:8080/",
          "height": 34
        }
      },
      "cell_type": "code",
      "source": [
        "try:\n",
        "  zeta_1 = Sum((1)/(n), (n, 1, oo)).evalf(d)\n",
        "  print(zeta_1)\n",
        "except ValueError:\n",
        "  print('sum diverges (infinity)')"
      ],
      "execution_count": 0,
      "outputs": [
        {
          "output_type": "stream",
          "text": [
            "sum diverges (infinity)\n"
          ],
          "name": "stdout"
        }
      ]
    },
    {
      "metadata": {
        "id": "gmylm89OcXCy",
        "colab_type": "text"
      },
      "cell_type": "markdown",
      "source": [
        "The Basel problem, which asks to find the exact sum, in closed form, of the series associated with $\\zeta(2)$ was first solved by Leonhard Euler in 1734 along with other positive even zeta values:\n",
        "\n",
        "\\begin{equation}\n",
        "\\zeta(2) = \\sum_{n=1}^{\\infty} \\frac{1}{n^2} = \\frac{\\pi^2}{6} \\hspace{1cm}\n",
        "\\zeta(4) = \\sum_{n=1}^{\\infty} \\frac{1}{n^4} = \\frac{\\pi^4}{90} \\hspace{1cm}\n",
        "\\zeta(6) = \\sum_{n=1}^{\\infty} \\frac{1}{n^6} = \\frac{\\pi^6}{945} \\hspace{1cm} \\cdots\n",
        "\\end{equation}\n"
      ]
    },
    {
      "metadata": {
        "colab_type": "code",
        "id": "MTmg9AoMeIUp",
        "outputId": "fd09f591-cf40-481e-b652-89092d4ac847",
        "colab": {
          "base_uri": "https://localhost:8080/",
          "height": 68
        }
      },
      "cell_type": "code",
      "source": [
        "zeta_2 = Sum((1)/(n**2), (n, 1, oo)).evalf(d)\n",
        "sum_2 = pi**2 / 6\n",
        "\n",
        "zeta_4 = Sum((1)/(n**4), (n, 1, oo)).evalf(d)\n",
        "sum_4 = pi**4 / 90\n",
        "\n",
        "zeta_6 = Sum((1)/(n**6), (n, 1, oo)).evalf(d)\n",
        "sum_6 = pi**6 / 945\n",
        "\n",
        "print('zeta(2) == pi**2 / 6 : ' + str(str(zeta_2) == str(sum_2)))\n",
        "print('zeta(4) == pi**4 / 90 : ' + str(str(zeta_4) == str(sum_4)))\n",
        "print('zeta(6) == pi**6 / 945 : ' + str(str(zeta_6) == str(sum_6)))\n",
        "\n",
        "# Converted zeta values to strings before testing equivalence due to rounding errors."
      ],
      "execution_count": 0,
      "outputs": [
        {
          "output_type": "stream",
          "text": [
            "zeta(2) == pi**2 / 6 : True\n",
            "zeta(4) == pi**4 / 90 : True\n",
            "zeta(6) == pi**6 / 945 : True\n"
          ],
          "name": "stdout"
        }
      ]
    },
    {
      "metadata": {
        "id": "dl9e0AVx8T_J",
        "colab_type": "text"
      },
      "cell_type": "markdown",
      "source": [
        "The closed forms of the positive odd zeta values are open problems to this day: \n",
        "\n",
        "\\begin{equation}\n",
        "\\zeta(3) = \\sum_{n=1}^{\\infty} \\frac{1}{n^3} = \\mathbf{?} \\hspace{1cm}\n",
        "\\zeta(5) = \\sum_{n=1}^{\\infty} \\frac{1}{n^5} = \\mathbf{?} \\hspace{1cm}\n",
        "\\zeta(7) = \\sum_{n=1}^{\\infty} \\frac{1}{n^7} = \\mathbf{?} \\hspace{1cm} \\cdots\n",
        "\\end{equation}\n",
        "\n",
        "The numerical values, however, are easily calculable."
      ]
    },
    {
      "metadata": {
        "id": "RYhVjt4M8eU7",
        "colab_type": "code",
        "outputId": "060f28e8-9086-49ba-d306-d1177cc9d6e5",
        "colab": {
          "base_uri": "https://localhost:8080/",
          "height": 68
        }
      },
      "cell_type": "code",
      "source": [
        "zeta_3 = Sum((1)/(n**3), (n, 1, oo)).evalf(d)\n",
        "zeta_5 = Sum((1)/(n**5), (n, 1, oo)).evalf(d)\n",
        "zeta_7 = Sum((1)/(n**7), (n, 1, oo)).evalf(d)\n",
        "\n",
        "print('zeta(3) = '+ str(zeta_3))\n",
        "print('zeta(5) = '+ str(zeta_5))\n",
        "print('zeta(7) = '+ str(zeta_7))"
      ],
      "execution_count": 0,
      "outputs": [
        {
          "output_type": "stream",
          "text": [
            "zeta(3) = 1.2020569031595942853997381615114499907649862923405\n",
            "zeta(5) = 1.0369277551433699263313654864570341680570809195019\n",
            "zeta(7) = 1.0083492773819228268397975498497967595998635605652\n"
          ],
          "name": "stdout"
        }
      ]
    },
    {
      "metadata": {
        "id": "XX7m0Pd42PWq",
        "colab_type": "text"
      },
      "cell_type": "markdown",
      "source": [
        "I've become enrapt in finding a closed form of $\\zeta(3)$, which is also known as Apéry's constant. Naturally, I tried my hand at closing $\\zeta(3)$ and made some progress! My plan was to keep it under wraps until I solved the problem in its entirety, but a fellow redditor [posted (and then deleted) an identical setup on r/math](https://www.reddit.com/r/math/comments/2qbdk2/was_playing_around_with_the_riemann_zeta_function/). Because it was already online, I decided to post it on the Mathematics Stack Exchange and now here with additional remarks.\n"
      ]
    },
    {
      "metadata": {
        "id": "wJT_dB0h3L41",
        "colab_type": "text"
      },
      "cell_type": "markdown",
      "source": [
        "## An Analytical Attack"
      ]
    },
    {
      "metadata": {
        "id": "L6vE7drOGso4",
        "colab_type": "text"
      },
      "cell_type": "markdown",
      "source": [
        "Let's start by defining two \"infinite dimension\" vectors Eulerean style (i.e. assuming the same basic vector rules/operations hold for infinite vectors as they do for finite ones).\n",
        "\n",
        "\\begin{align}\n",
        "\\vec{a} & = \\left\\langle 1, \\frac{1}{2},\\frac{1}{3},\\cdots, \\frac{1}{n} \\right\\rangle\\\\\n",
        "\\vec{b} & = \\left\\langle 1, \\frac{1}{4},\\frac{1}{9},\\cdots, \\frac{1}{n^2}\\right\\rangle\n",
        "\\end{align}\n",
        "\n",
        "Alternatively, we have the same vectors written in matrix form.\n",
        "\n",
        "\\begin{equation*} \n",
        "\\vec{a} = \n",
        "\\begin{bmatrix}\n",
        "1 \\\\\n",
        "\\frac{1}{2} \\\\\n",
        "\\frac{1}{3} \\\\\n",
        "\\vdots \\\\\n",
        "\\frac{1}{n}\n",
        "\\end{bmatrix} \\hspace{1cm}\n",
        "\\vec{b} = \n",
        "\\begin{bmatrix}\n",
        "1 \\\\\n",
        "\\frac{1}{4} \\\\\n",
        "\\frac{1}{9} \\\\\n",
        "\\vdots \\\\\n",
        "\\frac{1}{n^2}\n",
        "\\end{bmatrix}\n",
        "\\end{equation*}\n",
        "\n",
        "\n",
        "We then compute the magnitute of each vector.\n",
        "\n",
        "\\begin{align} \n",
        "\\left| \\vec{a} \\right| & = \\sqrt{1^2 + {\\left(\\frac{1}{2}\\right)}^2 + {\\left(\\frac{1}{3}\\right)}^2 + \\cdots} &\n",
        "\\left| \\vec{b} \\right| & = \\sqrt{1^2 + {\\left(\\frac{1}{4}\\right)}^2 + {\\left(\\frac{1}{9}\\right)}^2 + \\cdots} && \n",
        "\\\\\n",
        "& = \\sqrt{1 + \\frac{1}{2^2} + \\frac{1}{3^2} + \\cdots} &&\n",
        " = \\sqrt{1 + \\frac{1}{2^4} + \\frac{1}{3^4} + \\cdots} &&\n",
        "\\\\\n",
        "& = \\sqrt{\\zeta(2)} &&\n",
        " = \\sqrt{\\zeta(4)} &&\n",
        " \\\\\n",
        " & = \\sqrt{\\frac{\\pi^2}{6}} &&\n",
        " = \\sqrt{\\frac{\\pi^4}{90}}\n",
        " \\\\\n",
        " & = \\frac{\\pi}{\\sqrt{6}} &&\n",
        " = \\frac{\\pi^2}{\\sqrt{90}}\n",
        "\\end{align}\n",
        "\n",
        "Next, we'll evaluate the dot product using the algebraic and geometric definitions, set them equal to each other, and observe.\n",
        "\n",
        "To compute the algebraic definition of the dot product, we simply multiply the respective terms of each vector and sum them all up.\n",
        "\n",
        "\\begin{align}\n",
        "\\vec{a} \\cdot \\vec{b} & = 1 + \\frac{1}{2}\\left(\\frac{1}{4}\\right) + \\frac{1}{3}\\left(\\frac{1}{9}\\right) + \\cdots \\frac{1}{n}\\left(\\frac{1}{n^2}\\right) + \\cdots \\\\\n",
        "& = 1 + \\frac{1}{2^3} + \\frac{1}{3^3} + \\cdots \\frac{1}{n^3} + \\cdots \\\\\n",
        "& = \\zeta(3) \\tag{1}\n",
        "\\end{align}\n",
        "\n",
        "The geometric definition states $\\vec{a} \\cdot \\vec{b} = \\left|\\vec{a}\\right| \\left|\\vec{b}\\right|\\cos{\\theta}$, where $\\theta$ is the angle between the two vectors.\n",
        "\n",
        "\\begin{align}\n",
        "\\vec{a} \\cdot \\vec{b} & = \\frac{\\pi}{\\sqrt{6}}\\frac{\\pi^2}{\\sqrt{90}}\\cos{\\theta}\\\\\n",
        "& = \\frac{\\pi^3}{6\\sqrt{15}}\\cos{\\theta} \\tag{2}\n",
        "\\end{align}\n",
        "\n",
        "Finally, we set the two definitions, $(1)$ and $(2)$, equal to each other.\n",
        "\n",
        "\\begin{equation}\n",
        "\\zeta(3) = \\frac{\\pi^3}{6\\sqrt{15}}\\cos{\\theta} \\tag{3}\n",
        "\\end{equation}\n",
        "\n",
        "Alas, we see the elusive $\\pi^3$ factor in the same equation as $\\zeta(3)$ ! Let's solve for  $\\theta$.\n",
        "\n"
      ]
    },
    {
      "metadata": {
        "id": "ni_iGmPaJ2cC",
        "colab_type": "code",
        "outputId": "4ffe8b4b-a69d-47c4-cd28-5c9aa4d99081",
        "colab": {
          "base_uri": "https://localhost:8080/",
          "height": 34
        }
      },
      "cell_type": "code",
      "source": [
        "theta = zeta(3) * 6 * sqrt(15) / pi**3\n",
        "acos(theta)"
      ],
      "execution_count": 0,
      "outputs": [
        {
          "output_type": "execute_result",
          "data": {
            "text/plain": [
              "0.44897819124888880864175806011269012715880583802278"
            ]
          },
          "metadata": {
            "tags": []
          },
          "execution_count": 11
        }
      ]
    },
    {
      "metadata": {
        "id": "k3UWbJVNJ47u",
        "colab_type": "text"
      },
      "cell_type": "markdown",
      "source": [
        "Numerically, $\\theta \\approx 0.4489781912$ and has no closed form according to the [Inverse Symbolic Calculator](http://wayback.cecm.sfu.ca/cgi-bin/isc/lookup?number=0.44897819124888880864175806011269012715880583802278347365&lookup_type=simple) and [WolframAlpha](https://tinyurl.com/arccos). \n",
        "\n",
        "Now for the additional remarks!"
      ]
    },
    {
      "metadata": {
        "id": "1_LO7RC5G9iU",
        "colab_type": "text"
      },
      "cell_type": "markdown",
      "source": [
        "### Additional Remarks"
      ]
    },
    {
      "metadata": {
        "id": "tpulA3FMzGlf",
        "colab_type": "text"
      },
      "cell_type": "markdown",
      "source": [
        "The $6$ in the denominator of equation $(3)$ is just begging to be factored out along with $\\pi^2$.\n",
        "\n",
        "\\begin{align}\n",
        "\\zeta(3) & = \\frac{\\pi^3}{6\\sqrt{15}}\\cos{\\theta} \\tag{3}\\\\\n",
        "& = \\left(\\frac{\\pi^2}{6} \\right) \\frac{\\pi}{\\sqrt{15}}\\cos{\\theta} \\\\\n",
        "& = \\zeta(2) \\frac{\\pi}{\\sqrt{15}}\\cos{\\theta}\n",
        "\\end{align}\n",
        "\n",
        "Although we still don't have a closed form, we unearthed an underlying structure to a possible closed form. Essentially we have transformed the problem of closing $\\zeta(3)$, to that of closing the angle in the cosine function of our equation. Whether this makes solving the problem easier or harder is anyone's guess, but it does give us something to work with. With some effort, similar results can be achieved for $\\zeta(5)$, $\\zeta(7)$, and so on. In fact, higher odd zeta values give us multiple angles to work with because of the greater number of vectors we can use to achieve the desired sum. For example, $\\zeta(5)$ has two equations similar to $(3)$.\n",
        "\n",
        "\\begin{align}\n",
        "\\zeta(5) & = \\frac{\\pi^5}{90\\sqrt{7}}\\cos{\\theta_{1,4}} \\tag{4}\\\\\n",
        "& = \\zeta(4) \\frac{\\pi}{\\sqrt{7}}\\cos{\\theta_{1,4}} \\\\\n",
        "\\zeta(5) & = \\frac{\\pi^5}{45\\sqrt{42}}\\cos{\\theta_{2,3}} \\tag{5}\\\\\n",
        "& = \\zeta(4) \\frac{2\\pi}{\\sqrt{42}}\\cos{\\theta_{2,3}}\n",
        "\\end{align}\n",
        "\n",
        "The subscripts on $\\theta$ specify which vectors gave us that angle. For example, $\\theta_{1,4}$ refers to the angle between these two vectors.\n",
        "\n",
        "\\begin{align}\n",
        "\\vec{a_{\\color{Red} 1}} & = \\left\\langle 1, \\frac{1}{2},\\frac{1}{3},\\cdots, \\frac{1}{n^{\\color{Red} 1}}, \\cdots \\right\\rangle\\\\\n",
        "\\vec{b_{\\color{Red} 4}} & = \\left\\langle 1, \\frac{1}{16},\\frac{1}{81},\\cdots, \\frac{1}{n^{\\color{Red} 4}}, \\cdots \\right\\rangle\n",
        "\\end{align}\n",
        "\n",
        "We can generalize the fact that we can easily factor out $\\zeta(2n)$ from the equations and conjecture the following.\n",
        "\n",
        "\\begin{equation}\n",
        "\\boxed{\\zeta(2n+1) = \\zeta(2n)k\\pi\\cos{\\theta} \\hspace{1cm} n\\in \\mathbb{Z^+} ,k\\notin\\mathbb{Q}} \\tag{6}\n",
        "\\end{equation}\n",
        "\n",
        "As with most great conjectures, I will let it remain a conjecture in the hopes that some brilliant mathematician (or superintelligent AI) may later prove or disprove it.\n",
        "\n"
      ]
    },
    {
      "metadata": {
        "id": "UBCq7xEDNNor",
        "colab_type": "text"
      },
      "cell_type": "markdown",
      "source": [
        "## A Computational Attack"
      ]
    },
    {
      "metadata": {
        "id": "Z7f2GuTCtzm3",
        "colab_type": "text"
      },
      "cell_type": "markdown",
      "source": [
        "We'll begin this section by defining the Dirichlet beta function, $\\beta(s)$, for $\\Re(s) > 0$.\n",
        "\n",
        "\\begin{equation}\n",
        "\\beta(s) = \\sum_{n=0}^{\\infty} \\frac{(-1)^n}{(2n+1)^s} = \\frac{1}{1^s} - \\frac{1}{3^s} + \\frac{1}{5^s} - \\frac{1}{7^s} \\cdots \\frac{1}{(2n+1)^s}\n",
        "\\end{equation}\n",
        "\n",
        "Let's widen our view to encompass the even and odd parts of the aforementioned series and their respective alternating counterparts."
      ]
    },
    {
      "metadata": {
        "id": "lCtPJMTWuIQG",
        "colab_type": "text"
      },
      "cell_type": "markdown",
      "source": [
        "\n",
        "\n",
        "\\\\\n",
        "\n",
        "**Singles**\n",
        "\n",
        "\\begin{align} \n",
        "&{\\color{LightGray}{\\sum_{n=1}^{\\infty} \\frac{1}{n} \\rightarrow \\infty}} &&\n",
        "{\\color{LightGray}{\\sum_{n=1}^{\\infty} \\frac{1}{2n} \\rightarrow \\infty}} &&\n",
        "{\\color{LightGray}{\\sum_{n=0}^{\\infty} \\frac{1}{2n+1} \\rightarrow \\infty}} \\tag{7}\\\\\n",
        "& \\sum_{n=1}^{\\infty} \\frac{(-1)^{n+1}}{n} =\\ln(2) &&\n",
        "\\sum_{n=1}^{\\infty} \\frac{(-1)^{n+1}}{2n}  = \\frac{\\ln(2)}{2} &&\n",
        "\\sum_{n=0}^{\\infty} \\frac{(-1)^{n}}{2n+1}  = {\\color{Red} {\\frac{\\pi}{4}}} \\tag{8}\n",
        "\\end{align}\n",
        "\n",
        "\n",
        "\\\\\n",
        "\n",
        "\n",
        "---\n",
        "**Squares**\n",
        "\n",
        "\\\\\n",
        "\n",
        "\\begin{align} \n",
        "&\\sum_{n=1}^{\\infty} \\frac{1}{n^2} = \\frac{\\pi^2}{6} &&\n",
        "\\sum_{n=1}^{\\infty} \\frac{1}{(2n)^2} = \\frac{\\pi^2}{24} &&\n",
        "\\sum_{n=0}^{\\infty} \\frac{1}{(2n+1)^2} = \\frac{\\pi^2}{8} \\tag{9}\\\\\n",
        "& \\sum_{n=1}^{\\infty} \\frac{(-1)^{n+1}}{n^2} =\\frac{\\pi^2}{12} &&\n",
        "\\sum_{n=1}^{\\infty} \\frac{(-1)^{n+1}}{(2n)^2}  = \\frac{\\pi^2}{48} &&\n",
        "\\sum_{n=0}^{\\infty} \\frac{(-1)^{n}}{(2n+1)^2}  = {\\color{Red} {\\beta(2)}} \\tag{10}\n",
        "\\end{align}\n",
        "\n",
        "\n",
        "\\\\\n",
        "\n",
        "\n",
        "---\n",
        "**Cubes**\n",
        "\n",
        "\\\\\n",
        "\n",
        "\\begin{align} \n",
        "&\\sum_{n=1}^{\\infty} \\frac{1}{n^3} = \\zeta(3) &&\n",
        "\\sum_{n=1}^{\\infty} \\frac{1}{(2n)^3} = \\frac{\\zeta(3)}{8} &&\n",
        "\\sum_{n=0}^{\\infty} \\frac{1}{(2n+1)^3} = \\frac{7\\zeta(3)}{8} \\tag{11}\\\\\n",
        "& \\sum_{n=1}^{\\infty} \\frac{(-1)^{n+1}}{n^3} =\\frac{3\\zeta(3)}{4} &&\n",
        "\\sum_{n=1}^{\\infty} \\frac{(-1)^{n+1}}{(2n)^3}  = \\frac{3\\zeta(3)}{32} &&\n",
        "\\sum_{n=0}^{\\infty} \\frac{(-1)^{n}}{(2n+1)^3}  = {\\color{Red} {\\frac{\\pi^3}{32}}} \\tag{12}\n",
        "\\end{align}\n",
        "\n",
        "\n",
        "\\\\\n",
        "\n",
        "\n",
        "---\n",
        "\n",
        "\n",
        "\\\\\n",
        "\n",
        "\n",
        "\\begin{equation}\n",
        "\\vdots\n",
        "\\end{equation}\n",
        "\n",
        "\n",
        "\\\\"
      ]
    },
    {
      "metadata": {
        "id": "YJIUfeMcABlM",
        "colab_type": "text"
      },
      "cell_type": "markdown",
      "source": [
        "\n",
        "Many observations can be drawn from the above series of equations (pun intended): \n",
        "\n",
        "* The harmonic series and its even and odd components all diverge. See grayed first line.\n",
        "\n",
        "* The alternating harmonic series and its even and odd components all converge and the closed forms for each are known. See line $(8)$.\n",
        "\n",
        "* For the sections that include $\\zeta(2n)$, the closed form for each sum is *known*, except for the last, $\\beta(2n)$. See **Squares** and the emphasis in line $(10)$.\n",
        "\n",
        "* For the sections that include $\\zeta(2n+1)$, the closed form for each sum is *unknown*, except for the last, $\\beta(2n+1)$. See **Cubes** and the emphasis in line $(12)$.\n",
        "\n",
        "Many theories can be formulated as well.\n",
        "* Because line $(8)$ is the only even numbered line whose sums all have closed forms, we can assume that every other even numbered line shares a similar pattern. In other words, we can hypothesize that the first two equations in line $(12)$ both have $\\ln(2)$, probably cubed, as factors in their closed form. This is definitely a stretch, but not an outrageous one considering that Euler conjectured: $\\zeta(3) = \\alpha(\\ln{2})^2 + \\beta \\frac{\\pi^2}{6}\\ln{2}$ for rational $\\alpha, \\beta$ ([Dunham, 60](https://books.google.com/books?id=x7p4tCPPuXoC&pg=PA60&lpg=PA60#v=onepage&q&f=false)).\n",
        "\n",
        "* Looking at the **Squares** and **Cubes** sections, we see a  symmetric pattern where we either know the closed form of all series in the set except the last or vice versa. The values we do know have a common factor of $\\pi$. One can imagine there exists an advanced alien civilization somewhere in the universe that knows the closed form for every sum that we don't and vice versa. \n",
        "\n",
        "We'll explore this last concept further in the hopes we can find some unknown alien constant that divides both $\\zeta(2n+1)$ and $\\beta(2n)$, both for $n>0$. We'll try to isolate $\\pi$ from $\\zeta(2n)$ and try to replicate the process for $\\zeta(2n+1)$ and $\\beta(2n)$ in the hopes of finding a common constant.\n",
        "\n",
        "Let's imagine that we are an advanced alien species that do not know the closed forms of $\\zeta(2n)$, but can calculate the numerical value to an arbitrary precision. If we were to compute the following, we would arrive at $\\pi$.\n",
        "\n",
        "\\begin{equation}\n",
        "\\sqrt{6*\\zeta(2)} = \\pi\n",
        "\\end{equation}\n",
        "\n",
        "If we were to perform a similar computation with $\\zeta(4)$, that would also give us $\\pi$.\n",
        "\n",
        "\\begin{equation}\n",
        "\\sqrt[4]{90*\\zeta(4)} = \\pi\n",
        "\\end{equation}\n",
        "\n",
        "After having performed the above computations, we could easily conclude that $\\zeta(2n) = k\\pi^{2n}$ for $k \\in \\mathbb{Q}$. Granted, we would never perform the above two computations unless we already knew the closed forms, but this is a thought experiment so we'll run with it. We can simulate our aliens trying to find the common factor $\\pi$:"
      ]
    },
    {
      "metadata": {
        "id": "3yl0QG4DolMl",
        "colab_type": "text"
      },
      "cell_type": "markdown",
      "source": [
        "### The following is a work in progress. Proceed with caution."
      ]
    },
    {
      "metadata": {
        "id": "B2nZQ_FFUyGA",
        "colab_type": "code",
        "outputId": "26bfef8a-f199-46b7-a7de-aa6166a623eb",
        "colab": {
          "base_uri": "https://localhost:8080/",
          "height": 136
        }
      },
      "cell_type": "code",
      "source": [
        "# Zeta values to 50 decimal places.\n",
        "z2 = 1.6449340668482264364724151666460251892189499012068\n",
        "z4 = 1.0823232337111381915160036965411679027747509519187\n",
        "\n",
        "# Pretend that we don't know the rational factor, k, and perform the computations in loops.\n",
        "a = [(n*z2)**(1/2) for n in range(100)]\n",
        "b = [(n*z4)**(1/4) for n in range(100)]\n",
        "\n",
        "# We look for outputs in that are in both lists.\n",
        "c = list(set(a).intersection(b))\n",
        "print(c)\n",
        "\n",
        "# Find out which n's spat out 3.14...\n",
        "for n in range(100):\n",
        "  if (n*z2)**(1/2) == 3.141592653589793:\n",
        "    print(n)\n",
        "for n in range(100):\n",
        "  if (n*z4)**(1/4) == 3.141592653589793:\n",
        "    print(n)\n",
        "\n",
        "# Let's see what numbers return the other numbers (1.8137993642342178 & 2.565099660323728).\n",
        "for n in range(100):\n",
        "  if (n*z2)**(1/2) == 1.8137993642342178:\n",
        "    print(n)\n",
        "for n in range(100):\n",
        "  if (n*z4)**(1/4) == 1.8137993642342178:\n",
        "    print(n)\n",
        "\n",
        "for n in range(100):\n",
        "  if (n*z2)**(1/2) == 2.565099660323728:\n",
        "    print(n)\n",
        "for n in range(100):\n",
        "  if (n*z4)**(1/4) == 2.565099660323728:\n",
        "    print(n)\n",
        "\n"
      ],
      "execution_count": 1,
      "outputs": [
        {
          "output_type": "stream",
          "text": [
            "[0.0, 1.8137993642342178, 2.565099660323728, 3.141592653589793]\n",
            "6\n",
            "90\n",
            "2\n",
            "10\n",
            "4\n",
            "40\n"
          ],
          "name": "stdout"
        }
      ]
    },
    {
      "metadata": {
        "id": "Dp33d12LVwOu",
        "colab_type": "code",
        "colab": {}
      },
      "cell_type": "code",
      "source": [
        ""
      ],
      "execution_count": 0,
      "outputs": []
    },
    {
      "metadata": {
        "id": "imefgmt-VIVK",
        "colab_type": "text"
      },
      "cell_type": "markdown",
      "source": [
        "Now, we'll assume $\\zeta(2n+1) = kc^{2n+1}$ for some new constant, $c$, and $k \\in \\mathbb{Q}$. Then proceed to perform computations similar to those above. Because we don't know what the rational number, $k$ is, we will assume that its a reciprocal of an integer for the sake of simplicity and because the neighboring zeta values are of that form."
      ]
    }
  ]
}